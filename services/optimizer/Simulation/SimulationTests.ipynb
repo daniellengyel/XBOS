{
 "cells": [
  {
   "cell_type": "code",
   "execution_count": 1,
   "metadata": {},
   "outputs": [],
   "source": [
    "%load_ext autoreload\n",
    "%autoreload 2"
   ]
  },
  {
   "cell_type": "code",
   "execution_count": 2,
   "metadata": {},
   "outputs": [],
   "source": [
    "import time\n",
    "\n",
    "import datetime\n",
    "import pytz\n",
    "import calendar\n",
    "import itertools\n",
    "import pandas as pd\n",
    "\n",
    "import datetime\n",
    "import sys\n",
    "\n",
    "import numpy as np\n",
    "import os\n",
    "import pandas as pd\n",
    "import pytz\n",
    "\n",
    "sys.path.insert(0, '../')\n",
    "sys.path.insert(0, '../Optimizers')\n",
    "\n",
    "# import utils\n",
    "# from utils import plotly_figure\n",
    "\n",
    "import itertools\n",
    "import xbos_services_getter as xsg\n",
    "\n",
    "from Optimizers.MPC.MPC import MPC\n",
    "from Optimizers.MPC.MPC import Node\n",
    "from DataManager.DataManager import DataManager\n",
    "\n",
    "\n",
    "# from Optimizers.MPC.MPC import MPC\n",
    "# from Optimizers.MPC.MPC import Node\n",
    "# from DataManager.DataManager import DataManager\n",
    "from Thermostat import Tstat"
   ]
  },
  {
   "cell_type": "code",
   "execution_count": 3,
   "metadata": {},
   "outputs": [],
   "source": [
    "from Simulation.Simulation import SimulationMPC\n",
    "from datetime import *\n",
    "import xbos_services_getter as xsg"
   ]
  },
  {
   "cell_type": "code",
   "execution_count": 22,
   "metadata": {},
   "outputs": [],
   "source": [
    "TZ=pytz.timezone('US/Pacific')\n",
    "#start = datetime(year=2016,day=1,month=1,hour=0,tzinfo=TZ)\n",
    "start = datetime.now(TZ)-timedelta(days=3)\n",
    "start = start.replace(microsecond=0)\n",
    "end = datetime.now(TZ)-timedelta(days=1)\n",
    "end = end.replace(microsecond=0)\n",
    "\n",
    "# 1 zone at a time\n",
    "# (start, end): beginning and end of the simulated interval\n",
    "# horizon 4h is good\n",
    "building = 'avenal-movie-theatre'\n",
    "horizon = '4h'\n",
    "window = \"15m\"\n",
    "lambda_val = 0.9\n",
    "zone = 'hvac_zone_lobby'\n",
    "building_zone_names_stub = xsg.get_building_zone_names_stub()\n",
    "all_zones = xsg.get_zones(building_zone_names_stub, building)\n",
    "starting_temperatures = {zone: 66. for zone in all_zones}\n"
   ]
  },
  {
   "cell_type": "code",
   "execution_count": null,
   "metadata": {},
   "outputs": [],
   "source": [
    "\n",
    "def simulation(building, start, end, horizon, lambda_val, zone=None):\n",
    "    all_zones = get_zones(building)\n",
    "    use_zones = [zone] if zone is not None else all_zones\n",
    "    #zonename = all_zones[0]\n",
    "    print(building, start, end, horizon, lambda_val)\n",
    "    results = {}\n",
    "    for zonename in use_zones:\n",
    "        starting_temperatures = {zone: 66. for zone in all_zones}\n",
    "        # 15 minutes here is the simulated step\n",
    "        res = xsg.get_mpc_simulation(optimizer_stub, building, [zonename], start, end, '15m', horizon, lambda_val, starting_temperatures)\n",
    "        dates = pd.date_range(start, end, freq='15T')\n",
    "        actions, temperatures = res\n",
    "        # we pad the actions with an 'off'\n",
    "        actions = list(actions[0][zonename].actions) + [0]\n",
    "        d = {\n",
    "                'time': dates,\n",
    "                'actions': actions,\n",
    "                'temperatures': temperatures[0][zonename].temperatures,\n",
    "            }\n",
    "        print({k: len(v) for k,v in d.items()})\n",
    "        df = pd.DataFrame.from_dict(d)\n",
    "        df = df.set_index(pd.to_datetime(df.pop('time')))\n",
    "        df = df.resample('15T').max()\n",
    "        results[zonename] = df\n",
    "    return results"
   ]
  },
  {
   "cell_type": "code",
   "execution_count": 23,
   "metadata": {},
   "outputs": [
    {
     "name": "stdout",
     "output_type": "stream",
     "text": [
      "hvac_zone_lobby\n",
      "WARNING: Tstat for building: 'avenal-movie-theatre' and zone: 'hvac_zone_lobby' did not receive error data from indoor_temperature_prediction microservice for action: '0' and is now using STANDARD error.\n",
      "WARNING: Tstat for building: 'avenal-movie-theatre' and zone: 'hvac_zone_lobby' did not receive error data from indoor_temperature_prediction microservice for action: '1' and is now using STANDARD error.\n",
      "WARNING: Tstat for building: 'avenal-movie-theatre' and zone: 'hvac_zone_lobby' did not receive error data from indoor_temperature_prediction microservice for action: '2' and is now using STANDARD error.\n",
      "hvac_zone_main_hallway\n",
      "WARNING: Tstat for building: 'avenal-movie-theatre' and zone: 'hvac_zone_main_hallway' did not receive error data from indoor_temperature_prediction microservice for action: '0' and is now using STANDARD error.\n",
      "WARNING: Tstat for building: 'avenal-movie-theatre' and zone: 'hvac_zone_main_hallway' did not receive error data from indoor_temperature_prediction microservice for action: '1' and is now using STANDARD error.\n",
      "WARNING: Tstat for building: 'avenal-movie-theatre' and zone: 'hvac_zone_main_hallway' did not receive error data from indoor_temperature_prediction microservice for action: '2' and is now using STANDARD error.\n",
      "hvac_zone_room_a\n",
      "WARNING: Tstat for building: 'avenal-movie-theatre' and zone: 'hvac_zone_room_a' did not receive error data from indoor_temperature_prediction microservice for action: '0' and is now using STANDARD error.\n",
      "WARNING: Tstat for building: 'avenal-movie-theatre' and zone: 'hvac_zone_room_a' did not receive error data from indoor_temperature_prediction microservice for action: '1' and is now using STANDARD error.\n",
      "WARNING: Tstat for building: 'avenal-movie-theatre' and zone: 'hvac_zone_room_a' did not receive error data from indoor_temperature_prediction microservice for action: '2' and is now using STANDARD error.\n",
      "hvac_zone_theater_2\n",
      "WARNING: Tstat for building: 'avenal-movie-theatre' and zone: 'hvac_zone_theater_2' did not receive error data from indoor_temperature_prediction microservice for action: '0' and is now using STANDARD error.\n",
      "WARNING: Tstat for building: 'avenal-movie-theatre' and zone: 'hvac_zone_theater_2' did not receive error data from indoor_temperature_prediction microservice for action: '1' and is now using STANDARD error.\n",
      "WARNING: Tstat for building: 'avenal-movie-theatre' and zone: 'hvac_zone_theater_2' did not receive error data from indoor_temperature_prediction microservice for action: '2' and is now using STANDARD error.\n",
      "hvac_zone_back_hallway\n",
      "WARNING: Tstat for building: 'avenal-movie-theatre' and zone: 'hvac_zone_back_hallway' did not receive error data from indoor_temperature_prediction microservice for action: '0' and is now using STANDARD error.\n",
      "WARNING: Tstat for building: 'avenal-movie-theatre' and zone: 'hvac_zone_back_hallway' did not receive error data from indoor_temperature_prediction microservice for action: '1' and is now using STANDARD error.\n",
      "WARNING: Tstat for building: 'avenal-movie-theatre' and zone: 'hvac_zone_back_hallway' did not receive error data from indoor_temperature_prediction microservice for action: '2' and is now using STANDARD error.\n",
      "hvac_zone_room_d\n",
      "WARNING: Tstat for building: 'avenal-movie-theatre' and zone: 'hvac_zone_room_d' did not receive error data from indoor_temperature_prediction microservice for action: '0' and is now using STANDARD error.\n",
      "WARNING: Tstat for building: 'avenal-movie-theatre' and zone: 'hvac_zone_room_d' did not receive error data from indoor_temperature_prediction microservice for action: '1' and is now using STANDARD error.\n",
      "WARNING: Tstat for building: 'avenal-movie-theatre' and zone: 'hvac_zone_room_d' did not receive error data from indoor_temperature_prediction microservice for action: '2' and is now using STANDARD error.\n",
      "hvac_zone_pegasus_hall\n",
      "WARNING: Tstat for building: 'avenal-movie-theatre' and zone: 'hvac_zone_pegasus_hall' did not receive error data from indoor_temperature_prediction microservice for action: '0' and is now using STANDARD error.\n",
      "WARNING: Tstat for building: 'avenal-movie-theatre' and zone: 'hvac_zone_pegasus_hall' did not receive error data from indoor_temperature_prediction microservice for action: '1' and is now using STANDARD error.\n",
      "WARNING: Tstat for building: 'avenal-movie-theatre' and zone: 'hvac_zone_pegasus_hall' did not receive error data from indoor_temperature_prediction microservice for action: '2' and is now using STANDARD error.\n",
      "hvac_zone_theater_1\n",
      "WARNING: Tstat for building: 'avenal-movie-theatre' and zone: 'hvac_zone_theater_1' did not receive error data from indoor_temperature_prediction microservice for action: '0' and is now using STANDARD error.\n",
      "WARNING: Tstat for building: 'avenal-movie-theatre' and zone: 'hvac_zone_theater_1' did not receive error data from indoor_temperature_prediction microservice for action: '1' and is now using STANDARD error.\n",
      "WARNING: Tstat for building: 'avenal-movie-theatre' and zone: 'hvac_zone_theater_1' did not receive error data from indoor_temperature_prediction microservice for action: '2' and is now using STANDARD error.\n"
     ]
    }
   ],
   "source": [
    "tstats = {}\n",
    "for iter_zone in all_zones:\n",
    "    print(iter_zone)\n",
    "    tstats[iter_zone] = Tstat(building, iter_zone, starting_temperatures[iter_zone],  suppress_not_enough_data_error=True)\n",
    "\n"
   ]
  },
  {
   "cell_type": "code",
   "execution_count": 24,
   "metadata": {},
   "outputs": [],
   "source": [
    "Simulation_instance = SimulationMPC(building, [zone], lambda_val,\n",
    "                                        start, end, horizon, window, tstats)"
   ]
  },
  {
   "cell_type": "code",
   "execution_count": 29,
   "metadata": {},
   "outputs": [
    {
     "data": {
      "text/plain": [
       "{'hvac_zone_lobby':                               t_high      t_low unit\n",
       " datetime                                            \n",
       " 2019-06-04 15:31:05-07:00  78.000000  68.000000    F\n",
       " 2019-06-04 15:46:05-07:00  78.000000  68.000000    F\n",
       " 2019-06-04 16:01:05-07:00  78.000000  68.000000    F\n",
       " 2019-06-04 16:16:05-07:00  78.000000  68.000000    F\n",
       " 2019-06-04 16:31:05-07:00  78.000000  68.000000    F\n",
       " 2019-06-04 16:46:05-07:00  78.000000  68.000000    F\n",
       " 2019-06-04 17:01:05-07:00  78.000000  68.000000    F\n",
       " 2019-06-04 17:16:05-07:00  78.000000  68.000000    F\n",
       " 2019-06-04 17:31:05-07:00  78.000000  68.000000    F\n",
       " 2019-06-04 17:46:05-07:00  78.000000  68.000000    F\n",
       " 2019-06-04 18:01:05-07:00  78.000000  68.000000    F\n",
       " 2019-06-04 18:16:05-07:00  78.000000  68.000000    F\n",
       " 2019-06-04 18:31:05-07:00  78.000000  68.000000    F\n",
       " 2019-06-04 18:46:05-07:00  78.000000  68.000000    F\n",
       " 2019-06-04 19:01:05-07:00  78.000000  68.000000    F\n",
       " 2019-06-04 19:16:05-07:00  78.000000  68.000000    F\n",
       " 2019-06-04 19:31:05-07:00  78.000000  68.000000    F\n",
       " 2019-06-04 19:46:05-07:00  78.000000  68.000000    F\n",
       " 2019-06-04 20:01:05-07:00  78.000000  68.000000    F\n",
       " 2019-06-04 20:16:05-07:00  78.000000  68.000000    F\n",
       " 2019-06-04 20:31:05-07:00  78.000000  68.000000    F\n",
       " 2019-06-04 20:46:05-07:00  78.505556  67.566667    F\n",
       " 2019-06-04 21:01:05-07:00  85.000000  62.000000    F\n",
       " 2019-06-04 21:16:05-07:00  85.000000  62.000000    F\n",
       " 2019-06-04 21:31:05-07:00  85.000000  62.000000    F\n",
       " 2019-06-04 21:46:05-07:00  85.000000  62.000000    F\n",
       " 2019-06-04 22:01:05-07:00  85.000000  62.000000    F\n",
       " 2019-06-04 22:16:05-07:00  85.000000  62.000000    F\n",
       " 2019-06-04 22:31:05-07:00  85.000000  62.000000    F\n",
       " 2019-06-04 22:46:05-07:00  85.000000  62.000000    F\n",
       " ...                              ...        ...  ...\n",
       " 2019-06-06 12:01:05-07:00  78.000000  68.000000    F\n",
       " 2019-06-06 12:16:05-07:00  78.000000  68.000000    F\n",
       " 2019-06-06 12:31:05-07:00  78.000000  68.000000    F\n",
       " 2019-06-06 12:46:05-07:00  78.000000  68.000000    F\n",
       " 2019-06-06 13:01:05-07:00  78.000000  68.000000    F\n",
       " 2019-06-06 13:16:05-07:00  78.000000  68.000000    F\n",
       " 2019-06-06 13:31:05-07:00  78.000000  68.000000    F\n",
       " 2019-06-06 13:46:05-07:00  78.000000  68.000000    F\n",
       " 2019-06-06 14:01:05-07:00  78.000000  68.000000    F\n",
       " 2019-06-06 14:16:05-07:00  78.000000  68.000000    F\n",
       " 2019-06-06 14:31:05-07:00  78.000000  68.000000    F\n",
       " 2019-06-06 14:46:05-07:00  78.000000  68.000000    F\n",
       " 2019-06-06 15:01:05-07:00  78.000000  68.000000    F\n",
       " 2019-06-06 15:16:05-07:00  78.000000  68.000000    F\n",
       " 2019-06-06 15:31:05-07:00  78.000000  68.000000    F\n",
       " 2019-06-06 15:46:05-07:00  78.000000  68.000000    F\n",
       " 2019-06-06 16:01:05-07:00  78.000000  68.000000    F\n",
       " 2019-06-06 16:16:05-07:00  78.000000  68.000000    F\n",
       " 2019-06-06 16:31:05-07:00  78.000000  68.000000    F\n",
       " 2019-06-06 16:46:05-07:00  78.000000  68.000000    F\n",
       " 2019-06-06 17:01:05-07:00  78.000000  68.000000    F\n",
       " 2019-06-06 17:16:05-07:00  78.000000  68.000000    F\n",
       " 2019-06-06 17:31:05-07:00  78.000000  68.000000    F\n",
       " 2019-06-06 17:46:05-07:00  78.000000  68.000000    F\n",
       " 2019-06-06 18:01:05-07:00  78.000000  68.000000    F\n",
       " 2019-06-06 18:16:05-07:00  78.000000  68.000000    F\n",
       " 2019-06-06 18:31:05-07:00  78.000000  68.000000    F\n",
       " 2019-06-06 18:46:05-07:00  78.000000  68.000000    F\n",
       " 2019-06-06 19:01:05-07:00  78.000000  68.000000    F\n",
       " 2019-06-06 19:16:05-07:00  78.000000  68.000000    F\n",
       " \n",
       " [208 rows x 3 columns]}"
      ]
     },
     "execution_count": 29,
     "metadata": {},
     "output_type": "execute_result"
    }
   ],
   "source": [
    "Simulation_instance.DataManager.do_not_exceed"
   ]
  },
  {
   "cell_type": "code",
   "execution_count": 25,
   "metadata": {},
   "outputs": [
    {
     "ename": "KeyError",
     "evalue": "None",
     "traceback": [
      "\u001b[0;31m---------------------------------------------------------------------------\u001b[0m",
      "\u001b[0;31mKeyError\u001b[0m                                  Traceback (most recent call last)",
      "\u001b[0;32m<ipython-input-25-e06e48470a36>\u001b[0m in \u001b[0;36m<module>\u001b[0;34m\u001b[0m\n\u001b[0;32m----> 1\u001b[0;31m \u001b[0mSimulation_instance\u001b[0m\u001b[0;34m.\u001b[0m\u001b[0mrun\u001b[0m\u001b[0;34m(\u001b[0m\u001b[0;34m)\u001b[0m\u001b[0;34m\u001b[0m\u001b[0;34m\u001b[0m\u001b[0m\n\u001b[0m",
      "\u001b[0;32m~/BETS/XBOS/services/optimizer/Simulation/Simulation.py\u001b[0m in \u001b[0;36mrun\u001b[0;34m(self)\u001b[0m\n\u001b[1;32m    103\u001b[0m     \u001b[0;32mdef\u001b[0m \u001b[0mrun\u001b[0m\u001b[0;34m(\u001b[0m\u001b[0mself\u001b[0m\u001b[0;34m)\u001b[0m\u001b[0;34m:\u001b[0m\u001b[0;34m\u001b[0m\u001b[0;34m\u001b[0m\u001b[0m\n\u001b[1;32m    104\u001b[0m         \u001b[0;32mwhile\u001b[0m \u001b[0mself\u001b[0m\u001b[0;34m.\u001b[0m\u001b[0mcurrent_time\u001b[0m \u001b[0;34m<\u001b[0m \u001b[0mself\u001b[0m\u001b[0;34m.\u001b[0m\u001b[0msimulation_end\u001b[0m\u001b[0;34m:\u001b[0m\u001b[0;34m\u001b[0m\u001b[0;34m\u001b[0m\u001b[0m\n\u001b[0;32m--> 105\u001b[0;31m             \u001b[0mself\u001b[0m\u001b[0;34m.\u001b[0m\u001b[0mstep\u001b[0m\u001b[0;34m(\u001b[0m\u001b[0;34m)\u001b[0m\u001b[0;34m\u001b[0m\u001b[0;34m\u001b[0m\u001b[0m\n\u001b[0m\u001b[1;32m    106\u001b[0m \u001b[0;34m\u001b[0m\u001b[0m\n\u001b[1;32m    107\u001b[0m \u001b[0;34m\u001b[0m\u001b[0m\n",
      "\u001b[0;32m~/BETS/XBOS/services/optimizer/Simulation/Simulation.py\u001b[0m in \u001b[0;36mstep\u001b[0;34m(self)\u001b[0m\n\u001b[1;32m     85\u001b[0m \u001b[0;34m\u001b[0m\u001b[0m\n\u001b[1;32m     86\u001b[0m         \u001b[0mroot\u001b[0m \u001b[0;34m=\u001b[0m \u001b[0mop\u001b[0m\u001b[0;34m.\u001b[0m\u001b[0mshortest_path\u001b[0m\u001b[0;34m(\u001b[0m\u001b[0mroot\u001b[0m\u001b[0;34m)\u001b[0m\u001b[0;34m\u001b[0m\u001b[0;34m\u001b[0m\u001b[0m\n\u001b[0;32m---> 87\u001b[0;31m         \u001b[0mbest_action\u001b[0m \u001b[0;34m=\u001b[0m \u001b[0mop\u001b[0m\u001b[0;34m.\u001b[0m\u001b[0mg\u001b[0m\u001b[0;34m.\u001b[0m\u001b[0mnode\u001b[0m\u001b[0;34m[\u001b[0m\u001b[0mroot\u001b[0m\u001b[0;34m]\u001b[0m\u001b[0;34m[\u001b[0m\u001b[0;34m\"best_action\"\u001b[0m\u001b[0;34m]\u001b[0m\u001b[0;34m\u001b[0m\u001b[0;34m\u001b[0m\u001b[0m\n\u001b[0m\u001b[1;32m     88\u001b[0m \u001b[0;34m\u001b[0m\u001b[0m\n\u001b[1;32m     89\u001b[0m \u001b[0;34m\u001b[0m\u001b[0m\n",
      "\u001b[0;32m~/miniconda3/envs/venv-dr3/lib/python3.6/site-packages/networkx/classes/reportviews.py\u001b[0m in \u001b[0;36m__getitem__\u001b[0;34m(self, n)\u001b[0m\n\u001b[1;32m    176\u001b[0m \u001b[0;34m\u001b[0m\u001b[0m\n\u001b[1;32m    177\u001b[0m     \u001b[0;32mdef\u001b[0m \u001b[0m__getitem__\u001b[0m\u001b[0;34m(\u001b[0m\u001b[0mself\u001b[0m\u001b[0;34m,\u001b[0m \u001b[0mn\u001b[0m\u001b[0;34m)\u001b[0m\u001b[0;34m:\u001b[0m\u001b[0;34m\u001b[0m\u001b[0;34m\u001b[0m\u001b[0m\n\u001b[0;32m--> 178\u001b[0;31m         \u001b[0;32mreturn\u001b[0m \u001b[0mself\u001b[0m\u001b[0;34m.\u001b[0m\u001b[0m_nodes\u001b[0m\u001b[0;34m[\u001b[0m\u001b[0mn\u001b[0m\u001b[0;34m]\u001b[0m\u001b[0;34m\u001b[0m\u001b[0;34m\u001b[0m\u001b[0m\n\u001b[0m\u001b[1;32m    179\u001b[0m \u001b[0;34m\u001b[0m\u001b[0m\n\u001b[1;32m    180\u001b[0m     \u001b[0;31m# Set methods\u001b[0m\u001b[0;34m\u001b[0m\u001b[0;34m\u001b[0m\u001b[0;34m\u001b[0m\u001b[0m\n",
      "\u001b[0;31mKeyError\u001b[0m: None"
     ],
     "output_type": "error"
    }
   ],
   "source": [
    "Simulation_instance.run()"
   ]
  },
  {
   "cell_type": "code",
   "execution_count": 11,
   "metadata": {},
   "outputs": [
    {
     "name": "stdout",
     "output_type": "stream",
     "text": [
      "2019-06-06 14:09:45-07:00\n"
     ]
    }
   ],
   "source": [
    "print(end.replace(microsecond=0))"
   ]
  },
  {
   "cell_type": "code",
   "execution_count": null,
   "metadata": {},
   "outputs": [],
   "source": []
  }
 ],
 "metadata": {
  "kernelspec": {
   "display_name": "Python (venv-dr3)\n",
   "language": "python",
   "name": "venv-dr3"
  },
  "language_info": {
   "codemirror_mode": {
    "name": "ipython",
    "version": 3
   },
   "file_extension": ".py",
   "mimetype": "text/x-python",
   "name": "python",
   "nbconvert_exporter": "python",
   "pygments_lexer": "ipython3",
   "version": "3.6.8"
  }
 },
 "nbformat": 4,
 "nbformat_minor": 2
}
